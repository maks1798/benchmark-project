{
 "cells": [
  {
   "cell_type": "markdown",
   "metadata": {},
   "source": [
    "# Results Analysis"
   ]
  },
  {
   "cell_type": "code",
   "execution_count": null,
   "metadata": {},
   "outputs": [],
   "source": [
    "import pandas as pd\n",
    "import matplotlib.pyplot as plt\n",
    "\n",
    "# Load CSVs\n",
    "noise = pd.read_csv('../noise_log.csv')\n",
    "fan   = pd.read_csv('../fan_log.csv')\n",
    "gpu   = pd.read_csv('../afterburner_log.csv')\n",
    "\n",
    "# Merge on time\n",
    "df = noise.merge(fan, on='time_s').merge(gpu, left_on='second', right_on='second')\n",
    "\n",
    "# Plot Noise & Fan Speed\n",
    "plt.figure()\n",
    "plt.plot(df['time_s'], df['dBFS'], label='Noise (dBFS)')\n",
    "plt.plot(df['time_s'], df['fan_pct'], label='Fan Speed (%)')\n",
    "plt.legend()\n",
    "plt.title('Noise vs. Fan Speed Over Time')\n",
    "plt.show()\n"
   ]
  }
 ],
 "metadata": {},
 "nbformat": 4,
 "nbformat_minor": 2
}